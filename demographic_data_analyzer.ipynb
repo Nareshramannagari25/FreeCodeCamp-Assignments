{
 "cells": [
  {
   "cell_type": "code",
   "execution_count": null,
   "id": "91c5bad7",
   "metadata": {},
   "outputs": [],
   "source": [
    "import pandas as pd \n",
    "\n",
    "df = pd.read_csv(r\"C:\\Users\\nares\\FreeCodecamp2ndassignment.csv\", \n",
    "     \n",
    "                 names=[\"age\",\"workclass\",\"fnlwgt\",\"education\",\"education-num\",\n",
    "                        \"marital-status\",\"occupation\",\"relationship\",\"race\",\"sex\",\n",
    "                        \"capital-gain\",\"capital-loss\",\"hours-per-week\",\"native-country\",\"salary\"]) \n",
    "df.reset_index(drop=True,inplace =True)\n",
    "df"
   ]
  },
  {
   "cell_type": "code",
   "execution_count": null,
   "id": "3df28146",
   "metadata": {},
   "outputs": [],
   "source": [
    "#1st question \n",
    "\n",
    "Race_count               = df['race'].value_counts()\n",
    "Race_df                  = pd.DataFrame({\"count\":Race_count})\n",
    "Race_df"
   ]
  },
  {
   "cell_type": "code",
   "execution_count": null,
   "id": "63b9b42b",
   "metadata": {},
   "outputs": [],
   "source": [
    "#2nd question \n",
    "\n",
    "Men_avg_age = round(df[df['sex']==\" Male\"]['age'].mean(),2)\n",
    "Data_Frame  = pd.DataFrame(data={\"Men_avg_age\":Men_avg_age},index=[\"value\"])\n",
    "Data_Frame"
   ]
  },
  {
   "cell_type": "code",
   "execution_count": null,
   "id": "641eb52f",
   "metadata": {},
   "outputs": [],
   "source": [
    "#3rd question \n",
    "\n",
    "B_Percentage           = df.loc[df[\"education\"]==\" Bachelors\",'education'].count().sum()*100/df.shape[0]\n",
    "BP_df                  = pd.DataFrame({ \"B_Percentage\" : round(B_Percentage,2)},index=['value'])\n",
    "BP_df"
   ]
  },
  {
   "cell_type": "code",
   "execution_count": null,
   "id": "37df113c",
   "metadata": {},
   "outputs": [],
   "source": [
    "#4th question\n",
    "Advanced_education = round(df.query(\"education ==' Bachelors' | education == ' Masters' | education == ' Doctorate'\").value_counts().sum()/df.shape[0]*100,2)\n",
    "with_Adv_edu_df    = pd.DataFrame({\"with_Advanced_education_>50K\":Advanced_education},index=['value'])\n",
    "with_Adv_edu_df"
   ]
  },
  {
   "cell_type": "code",
   "execution_count": null,
   "id": "c5fc9c60",
   "metadata": {},
   "outputs": [],
   "source": [
    "#5th question \n",
    "without_Advanced_education      = round(df.query(\"education !=' Bachelors' & education != ' Masters' & education != ' Doctorate'\").value_counts().sum()/df.shape[0]*100,2)\n",
    "without_Adv_edu_df              = pd.DataFrame({\"without_Advanced_education_>50K\":without_Advanced_education},index=['value'])\n",
    "without_Adv_edu_df"
   ]
  },
  {
   "cell_type": "code",
   "execution_count": null,
   "id": "bb691666",
   "metadata": {},
   "outputs": [],
   "source": [
    "#6th question\n",
    "Min_hours           = round(df['hours-per-week'].sum()/df.shape[0] ,2) \n",
    "Min_hrs_df          = pd.DataFrame({\"Min_hours\":Min_hours},index=['value'])\n",
    "Min_hrs_df"
   ]
  },
  {
   "cell_type": "code",
   "execution_count": null,
   "id": "6e3e2bee",
   "metadata": {},
   "outputs": [],
   "source": [
    "#7th question \n",
    "#7th question \n",
    "Min_hours            = df[df[\"hours-per-week\"]==df['hours-per-week'].min()].value_counts().sum()\n",
    "hours_and_salary     = df[(df[\"hours-per-week\"]==df['hours-per-week'].min()) & (df['salary']==\" >50K\")].value_counts().sum()/Min_hours*100\n",
    "Min_Workers_df       = pd.DataFrame({\"Min hours work and >50K salary\":hours_and_salary},index=[\"value\"])\n",
    "Min_Workers_df"
   ]
  },
  {
   "cell_type": "code",
   "execution_count": null,
   "id": "5de111a3",
   "metadata": {},
   "outputs": [],
   "source": [
    "#8th question \n",
    "\n",
    "All_countries_count  = df[df['salary']==\" >50K\"]['native-country'].value_counts().sum()\n",
    "highest_country      = round(df[df['salary']==\" >50K\"]['native-country'].value_counts()[0]/All_countries_count*100,2)\n",
    "HC_Df                = pd.DataFrame({\"percentage\":highest_country},index=[\"United states\"])\n",
    "HC_Df"
   ]
  },
  {
   "cell_type": "code",
   "execution_count": null,
   "id": "14565633",
   "metadata": {},
   "outputs": [],
   "source": [
    "#9th question \n",
    "popular_occupation = df[(df['native-country']==\" India\") & (df['salary']==\" >50K\")]['occupation'].value_counts()\n",
    "PO_df              = pd.DataFrame({\"no_of_employee\":popular_occupation}).reset_index().rename(columns={'index':'occupation'})\n",
    "PO_df.iloc[0:1]"
   ]
  }
 ],
 "metadata": {
  "kernelspec": {
   "display_name": "Python 3.9.13 64-bit (microsoft store)",
   "language": "python",
   "name": "python3"
  },
  "language_info": {
   "codemirror_mode": {
    "name": "ipython",
    "version": 3
   },
   "file_extension": ".py",
   "mimetype": "text/x-python",
   "name": "python",
   "nbconvert_exporter": "python",
   "pygments_lexer": "ipython3",
   "version": "3.9.13"
  },
  "vscode": {
   "interpreter": {
    "hash": "2a514379cc6be58733012563c88818cb3ec1bb760c8404a0db76b5596b224488"
   }
  }
 },
 "nbformat": 4,
 "nbformat_minor": 5
}
